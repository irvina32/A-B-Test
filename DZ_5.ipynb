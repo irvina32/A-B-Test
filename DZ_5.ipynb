{
 "cells": [
  {
   "attachments": {},
   "cell_type": "markdown",
   "metadata": {},
   "source": [
    "1. Вы провели эксперимент c упрощением формы заказа в магазине Утконос и получили результаты по метрике конверсий в покупку. Выберите метод оценки и оцените есть ли стат.значимые различия между конверсиями в двух группах при alpha = 5%. Дайте краткие рекомендации команде.\n",
    "Результаты: \n",
    "1.Число юзеров в группах , которые заходили на сайт в период эксперимента: n1 = 15550 и n2 = 15550 . \n",
    "2.Число юзеров в группах , которые совершили хотя бы одну покупку за период эксперимента: n1 = 164 и n2 = 228 \n",
    "3.Конверсии : conv1 = 1.05% conv2 = 1.47% ."
   ]
  },
  {
   "cell_type": "code",
   "execution_count": 18,
   "metadata": {},
   "outputs": [
    {
     "data": {
      "text/plain": [
       "(0.101930123123638, 0.1203491171550502)"
      ]
     },
     "execution_count": 18,
     "metadata": {},
     "output_type": "execute_result"
    }
   ],
   "source": [
    "import math\n",
    "from scipy import stats\n",
    "n = 15550\n",
    "n1 = 164\n",
    "n2 = 228\n",
    "p1 = 0.0105\n",
    "p2 = 0.0147\n",
    "std1 = math.sqrt(p1 * (1 - p1))\n",
    "std2 = math.sqrt(p2 * (1 - p2))\n",
    "std1, std2"
   ]
  },
  {
   "cell_type": "code",
   "execution_count": 19,
   "metadata": {},
   "outputs": [
    {
     "data": {
      "text/plain": [
       "3.32081468036538"
      ]
     },
     "execution_count": 19,
     "metadata": {},
     "output_type": "execute_result"
    }
   ],
   "source": [
    "z_score = (p2 - p1) / math.sqrt(std1 ** 2 / n + std2 ** 2 / n)\n",
    "z_score"
   ]
  },
  {
   "cell_type": "code",
   "execution_count": 27,
   "metadata": {},
   "outputs": [
    {
     "name": "stdout",
     "output_type": "stream",
     "text": [
      "Различия в конверсии между группами статистически значимы\n"
     ]
    }
   ],
   "source": [
    "alpha = 0.05\n",
    "critical_value = stats.t.ppf(1 - alpha / 2, 2 * n - 2)\n",
    "if abs(z_score) > critical_value:\n",
    "    print(\"Различия в конверсии между группами статистически значимы\")\n",
    "else:\n",
    "    print(\"Различия в конверсии между группами не статистически значимы\")"
   ]
  },
  {
   "attachments": {},
   "cell_type": "markdown",
   "metadata": {},
   "source": [
    "2. Сравниваем метрику конверсия в покупку. Размер выборки - 10000 элементов в каждой группе . Какой статистический критерий тут лучше всего подойдёт и почему ?"
   ]
  },
  {
   "cell_type": "markdown",
   "metadata": {},
   "source": []
  },
  {
   "cell_type": "code",
   "execution_count": 21,
   "metadata": {},
   "outputs": [
    {
     "data": {
      "text/plain": [
       "(0.12700803124212265, 0.14926540121541898)"
      ]
     },
     "execution_count": 21,
     "metadata": {},
     "output_type": "execute_result"
    }
   ],
   "source": [
    "n = 10000\n",
    "n1 = 164\n",
    "n2 = 228\n",
    "p1 = n1/n\n",
    "p2 = n2/n\n",
    "std1 = math.sqrt(p1 * (1 - p1))\n",
    "std2 = math.sqrt(p2 * (1 - p2))\n",
    "std1, std2"
   ]
  },
  {
   "cell_type": "code",
   "execution_count": 22,
   "metadata": {},
   "outputs": [
    {
     "data": {
      "text/plain": [
       "3.2655101382017446"
      ]
     },
     "execution_count": 22,
     "metadata": {},
     "output_type": "execute_result"
    }
   ],
   "source": [
    "z_score = (p2 - p1) / math.sqrt(std1 ** 2 / n + std2 ** 2 / n)\n",
    "z_score"
   ]
  },
  {
   "cell_type": "code",
   "execution_count": 29,
   "metadata": {},
   "outputs": [
    {
     "name": "stdout",
     "output_type": "stream",
     "text": [
      "Различия в конверсии между группами статистически значимы\n"
     ]
    }
   ],
   "source": [
    "alpha = 0.05\n",
    "critical_value = stats.t.ppf(1 - alpha / 2, 2 * n - 2)\n",
    "if abs(z_score) > critical_value:\n",
    "    print(\"Различия в конверсии между группами статистически значимы\")\n",
    "else:\n",
    "    print(\"Различия в конверсии между группами не статистически значимы\")"
   ]
  },
  {
   "cell_type": "code",
   "execution_count": 24,
   "metadata": {},
   "outputs": [
    {
     "data": {
      "text/plain": [
       "(0.12700803124212265, 0.14926540121541898)"
      ]
     },
     "execution_count": 24,
     "metadata": {},
     "output_type": "execute_result"
    }
   ],
   "source": [
    "from scipy import stats\n",
    "n = 10000\n",
    "n1 = 164\n",
    "n2 = 228\n",
    "p1 = n1/n\n",
    "p2 = n2/n\n",
    "std1 = math.sqrt(p1 * (1 - p1))\n",
    "std2 = math.sqrt(p2 * (1 - p2))\n",
    "std1, std2\n"
   ]
  },
  {
   "cell_type": "code",
   "execution_count": 31,
   "metadata": {},
   "outputs": [
    {
     "data": {
      "text/plain": [
       "(-3.2655101382017446, 0.0010945088728775605)"
      ]
     },
     "execution_count": 31,
     "metadata": {},
     "output_type": "execute_result"
    }
   ],
   "source": [
    "t_score, p_value = stats.ttest_ind_from_stats(p1, std1, n, p2, std2, n)\n",
    "t_score, p_value"
   ]
  },
  {
   "cell_type": "code",
   "execution_count": 30,
   "metadata": {},
   "outputs": [
    {
     "name": "stdout",
     "output_type": "stream",
     "text": [
      "Различия в конверсии между группами статистически значимы\n"
     ]
    }
   ],
   "source": [
    "alpha = 0.05\n",
    "critical_value = stats.t.ppf(1 - alpha / 2, 2 * n - 2)\n",
    "if abs(t_score) > critical_value:\n",
    "    print(\"Различия в конверсии между группами статистически значимы\")\n",
    "else:\n",
    "    print(\"Различия в конверсии между группами не статистически значимы\")"
   ]
  },
  {
   "attachments": {},
   "cell_type": "markdown",
   "metadata": {},
   "source": [
    "При размере выборки 10000 элементов в каждой группе как Z-тест, так и t-тест Стьюдента могут быть использованы для сравнения метрики конверсии в покупку. Однако, если дисперсии выборок сильно различаются, то использование t-теста Стьюдента может дать неправильный результат. В таком случае, более уместно будет использовать Z-тест. Если дисперсии выборок не известны, то можно использовать t-тест Стьюдента с поправкой на неоднородность дисперсий, например, Welch's t-test.\n",
    "В целом, выбор статистического критерия зависит от конкретной ситуации и условий эксперимента. Если у нас есть большая выборка, то мы можем использовать Z-тест, но если выборка небольшая, то t-тест Стьюдента может дать более точный результат. Если дисперсии выборок сильно различаются, то Z-тест будет более уместен. В общем случае, для сравнения метрик можно использовать различные критерии и выбор зависит от конкретных условий и целей исследования."
   ]
  }
 ],
 "metadata": {
  "kernelspec": {
   "display_name": "Python 3",
   "language": "python",
   "name": "python3"
  },
  "language_info": {
   "codemirror_mode": {
    "name": "ipython",
    "version": 3
   },
   "file_extension": ".py",
   "mimetype": "text/x-python",
   "name": "python",
   "nbconvert_exporter": "python",
   "pygments_lexer": "ipython3",
   "version": "3.10.10"
  },
  "orig_nbformat": 4
 },
 "nbformat": 4,
 "nbformat_minor": 2
}
